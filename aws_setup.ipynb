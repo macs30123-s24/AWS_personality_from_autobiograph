{
 "cells": [
  {
   "cell_type": "code",
   "execution_count": 1,
   "id": "initial_id",
   "metadata": {
    "collapsed": true,
    "ExecuteTime": {
     "end_time": "2024-05-10T19:44:04.283200Z",
     "start_time": "2024-05-10T19:44:04.132580Z"
    }
   },
   "outputs": [],
   "source": [
    "import boto3\n",
    "import json\n",
    "import os\n",
    "import mysql.connector"
   ]
  },
  {
   "cell_type": "markdown",
   "source": [
    "## Initialize MySQL database "
   ],
   "metadata": {
    "collapsed": false
   },
   "id": "70ae8ab6f16945e6"
  },
  {
   "cell_type": "code",
   "outputs": [
    {
     "name": "stdout",
     "output_type": "stream",
     "text": [
      "Database instance already exists.\n",
      "autobiography-db is available at autobiography-db.cfgznmmh4qfo.us-east-1.rds.amazonaws.com on Port 3306\n"
     ]
    }
   ],
   "source": [
    "import boto3\n",
    "\n",
    "# Create RDS instance\n",
    "rds = boto3.client('rds')\n",
    "\n",
    "try:\n",
    "    response = rds.create_db_instance(\n",
    "        DBInstanceIdentifier='autobiography-db',\n",
    "        DBName='autobiography',\n",
    "        MasterUsername='username',\n",
    "        MasterUserPassword='password',\n",
    "        DBInstanceClass='db.t3.micro',\n",
    "        Engine='MySQL',\n",
    "        AllocatedStorage=5\n",
    "    )\n",
    "\n",
    "    # Wait until DB is available to continue\n",
    "    rds.get_waiter('db_instance_available').wait(DBInstanceIdentifier='autobiography-db')\n",
    "\n",
    "except rds.exceptions.DBInstanceAlreadyExistsFault:\n",
    "    print(\"Database instance already exists.\")\n",
    "\n",
    "# Describe where DB is available and on what port\n",
    "try:\n",
    "    db = rds.describe_db_instances(DBInstanceIdentifier='autobiography-db')['DBInstances'][0]\n",
    "    ENDPOINT = db['Endpoint']['Address']\n",
    "    PORT = db['Endpoint']['Port']\n",
    "    DBID = db['DBInstanceIdentifier']\n",
    "\n",
    "    print(DBID, \"is available at\", ENDPOINT, \"on Port\", PORT)\n",
    "except Exception as e:\n",
    "    print(\"Error retrieving database information:\", e)"
   ],
   "metadata": {
    "collapsed": false,
    "ExecuteTime": {
     "end_time": "2024-05-10T19:48:56.594893Z",
     "start_time": "2024-05-10T19:48:55.187649Z"
    }
   },
   "id": "35c27757e8c60953",
   "execution_count": 9
  },
  {
   "cell_type": "code",
   "outputs": [
    {
     "name": "stdout",
     "output_type": "stream",
     "text": [
      "Permissions already adjusted.\n"
     ]
    }
   ],
   "source": [
    "# Get Name of Security Group\n",
    "SGNAME = db['VpcSecurityGroups'][0]['VpcSecurityGroupId']\n",
    "\n",
    "# Adjust Permissions for that security group so that we can access it on Port 3306\n",
    "# If already SG is already adjusted, print this out\n",
    "try:\n",
    "    ec2 = boto3.client('ec2')\n",
    "    data = ec2.authorize_security_group_ingress(\n",
    "            GroupId=SGNAME,\n",
    "            IpPermissions=[\n",
    "                {'IpProtocol': 'tcp',\n",
    "                 'FromPort': PORT,\n",
    "                 'ToPort': PORT,\n",
    "                 'IpRanges': [{'CidrIp': '0.0.0.0/0'}]}\n",
    "            ]\n",
    "    )\n",
    "except ec2.exceptions.ClientError as e:\n",
    "    if e.response[\"Error\"][\"Code\"] == 'InvalidPermission.Duplicate':\n",
    "        print(\"Permissions already adjusted.\")\n",
    "    else:\n",
    "        print(e)"
   ],
   "metadata": {
    "collapsed": false,
    "ExecuteTime": {
     "end_time": "2024-05-10T19:49:01.758105Z",
     "start_time": "2024-05-10T19:49:01.400118Z"
    }
   },
   "id": "4944b6b27250f78a",
   "execution_count": 10
  },
  {
   "cell_type": "code",
   "outputs": [
    {
     "name": "stdout",
     "output_type": "stream",
     "text": [
      "Tables created successfully.\n",
      "Connection closed.\n"
     ]
    }
   ],
   "source": [
    "import mysql.connector\n",
    "\n",
    "# Database connection configuration\n",
    "config = {\n",
    "    'user': 'username',\n",
    "    'password': 'password',\n",
    "    'host': 'autobiography-db.cfgznmmh4qfo.us-east-1.rds.amazonaws.com',\n",
    "    'database': 'autobiography',\n",
    "    'raise_on_warnings': True\n",
    "}\n",
    "\n",
    "try:\n",
    "    # Connect to the database\n",
    "    conn = mysql.connector.connect(**config)\n",
    "    cursor = conn.cursor()\n",
    "\n",
    "    # SQL to create the 'books' and 'persons' tables without foreign keys\n",
    "    create_books_table = \"\"\"\n",
    "    CREATE TABLE books (\n",
    "        book_title VARCHAR(255) PRIMARY KEY,\n",
    "        Extroversion FLOAT,\n",
    "        Neuroticism FLOAT,\n",
    "        Agreeableness FLOAT,\n",
    "        Conscientiousness FLOAT,\n",
    "        Openness FLOAT,\n",
    "        person_name VARCHAR(255) NULL  \n",
    "    );\n",
    "    \"\"\"\n",
    "    create_persons_table = \"\"\"\n",
    "    CREATE TABLE persons (\n",
    "        person_name VARCHAR(255) PRIMARY KEY,\n",
    "        Extroversion FLOAT,\n",
    "        Neuroticism FLOAT,\n",
    "        Agreeableness FLOAT,\n",
    "        Conscientiousness FLOAT,\n",
    "        Openness FLOAT,\n",
    "        book_title VARCHAR(255) NULL \n",
    "    );\n",
    "    \"\"\"\n",
    "\n",
    "    # Execute SQL commands to create tables\n",
    "    cursor.execute(create_books_table)\n",
    "    cursor.execute(create_persons_table)\n",
    "\n",
    "    # Commit changes\n",
    "    conn.commit()\n",
    "    print(\"Tables created successfully.\")\n",
    "\n",
    "except mysql.connector.Error as err:\n",
    "    print(\"Error occurred:\", err)\n",
    "\n",
    "finally:\n",
    "    if conn.is_connected():\n",
    "        cursor.close()\n",
    "        conn.close()\n",
    "        print(\"Connection closed.\")"
   ],
   "metadata": {
    "collapsed": false,
    "ExecuteTime": {
     "end_time": "2024-05-10T20:39:04.119803Z",
     "start_time": "2024-05-10T20:39:03.689753Z"
    }
   },
   "id": "adffa7381a864280",
   "execution_count": 15
  },
  {
   "cell_type": "markdown",
   "source": [
    "# Initialize S3 to store the raw data"
   ],
   "metadata": {
    "collapsed": false
   },
   "id": "403764dfe93a297f"
  },
  {
   "cell_type": "code",
   "outputs": [
    {
     "name": "stdout",
     "output_type": "stream",
     "text": [
      "Bucket autobiography-raw-data created successfully.\n"
     ]
    }
   ],
   "source": [
    "# create s3 bucket\n",
    "bucket_name = 'autobiography-raw-data'\n",
    "region = 'us-east-1'\n",
    "s3 = boto3.client('s3', region_name=region if region else 'us-east-1')\n",
    "try:\n",
    "    if region is None or region == 'us-east-1':\n",
    "        s3.create_bucket(Bucket=bucket_name)\n",
    "    else:\n",
    "        s3.create_bucket(\n",
    "            Bucket=bucket_name,\n",
    "            CreateBucketConfiguration={'LocationConstraint': region}\n",
    "        )\n",
    "    print(f\"Bucket {bucket_name} created successfully.\")\n",
    "except s3.exceptions.BucketAlreadyExists as e:\n",
    "    print(f\"Bucket {bucket_name} already exists.\")\n",
    "except s3.exceptions.BucketAlreadyOwnedByYou as e:\n",
    "    print(f\"Bucket {bucket_name} already owned by you.\")\n",
    "except Exception as e:\n",
    "    print(f\"An error occurred: {e}\")"
   ],
   "metadata": {
    "collapsed": false,
    "ExecuteTime": {
     "end_time": "2024-05-10T20:08:39.611998Z",
     "start_time": "2024-05-10T20:08:39.186836Z"
    }
   },
   "id": "d9290f0aa823ccb7",
   "execution_count": 14
  },
  {
   "cell_type": "code",
   "outputs": [],
   "source": [],
   "metadata": {
    "collapsed": false
   },
   "id": "806720270d0da494"
  }
 ],
 "metadata": {
  "kernelspec": {
   "display_name": "Python 3",
   "language": "python",
   "name": "python3"
  },
  "language_info": {
   "codemirror_mode": {
    "name": "ipython",
    "version": 2
   },
   "file_extension": ".py",
   "mimetype": "text/x-python",
   "name": "python",
   "nbconvert_exporter": "python",
   "pygments_lexer": "ipython2",
   "version": "2.7.6"
  }
 },
 "nbformat": 4,
 "nbformat_minor": 5
}
