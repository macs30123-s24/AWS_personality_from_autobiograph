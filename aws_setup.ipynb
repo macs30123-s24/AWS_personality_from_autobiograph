{
 "cells": [
  {
   "cell_type": "code",
   "execution_count": 1,
   "id": "initial_id",
   "metadata": {
    "collapsed": true,
    "ExecuteTime": {
     "end_time": "2024-05-23T03:51:47.465567Z",
     "start_time": "2024-05-23T03:51:47.323177Z"
    }
   },
   "outputs": [],
   "source": [
    "import boto3\n",
    "import mysql.connector"
   ]
  },
  {
   "cell_type": "markdown",
   "source": [
    "## Initialize MySQL database "
   ],
   "metadata": {
    "collapsed": false
   },
   "id": "70ae8ab6f16945e6"
  },
  {
   "cell_type": "code",
   "outputs": [],
   "source": [
    "# Create RDS instance\n",
    "rds = boto3.client('rds')\n",
    "\n",
    "try:\n",
    "    response = rds.create_db_instance(\n",
    "        DBInstanceIdentifier='autobiography-db',\n",
    "        DBName='autobiography',\n",
    "        MasterUsername='username',\n",
    "        MasterUserPassword='password',\n",
    "        DBInstanceClass='db.t3.micro',\n",
    "        Engine='MySQL',\n",
    "        AllocatedStorage=5\n",
    "    )\n",
    "\n",
    "    # Wait until DB is available to continue\n",
    "    rds.get_waiter('db_instance_available').wait(DBInstanceIdentifier='autobiography-db')\n",
    "\n",
    "except rds.exceptions.DBInstanceAlreadyExistsFault:\n",
    "    print(\"Database instance already exists.\")"
   ],
   "metadata": {
    "collapsed": false,
    "ExecuteTime": {
     "end_time": "2024-05-23T03:58:54.701429Z",
     "start_time": "2024-05-23T03:51:47.466759Z"
    }
   },
   "id": "35c27757e8c60953",
   "execution_count": 2
  },
  {
   "cell_type": "code",
   "outputs": [
    {
     "name": "stdout",
     "output_type": "stream",
     "text": [
      "autobiography-db is available at autobiography-db.cvb2z3vt9fut.us-east-1.rds.amazonaws.com on Port 3306\n"
     ]
    }
   ],
   "source": [
    "# Describe where DB is available and on what port\n",
    "try:\n",
    "    db = rds.describe_db_instances(DBInstanceIdentifier='autobiography-db')['DBInstances'][0]\n",
    "    ENDPOINT = db['Endpoint']['Address']\n",
    "    PORT = db['Endpoint']['Port']\n",
    "    DBID = db['DBInstanceIdentifier']\n",
    "\n",
    "    print(DBID, \"is available at\", ENDPOINT, \"on Port\", PORT)\n",
    "except Exception as e:\n",
    "    print(\"Error retrieving database information:\", e)"
   ],
   "metadata": {
    "collapsed": false,
    "ExecuteTime": {
     "end_time": "2024-05-23T03:58:54.990532Z",
     "start_time": "2024-05-23T03:58:54.706368Z"
    }
   },
   "id": "a23d4c61528ccc68",
   "execution_count": 3
  },
  {
   "cell_type": "code",
   "outputs": [
    {
     "name": "stdout",
     "output_type": "stream",
     "text": [
      "Permissions already adjusted.\n"
     ]
    }
   ],
   "source": [
    "# Get Name of Security Group\n",
    "SGNAME = db['VpcSecurityGroups'][0]['VpcSecurityGroupId']\n",
    "\n",
    "# Adjust Permissions for that security group so that we can access it on Port 3306\n",
    "# If already SG is already adjusted, print this out\n",
    "try:\n",
    "    ec2 = boto3.client('ec2')\n",
    "    data = ec2.authorize_security_group_ingress(\n",
    "            GroupId=SGNAME,\n",
    "            IpPermissions=[\n",
    "                {'IpProtocol': 'tcp',\n",
    "                 'FromPort': PORT,\n",
    "                 'ToPort': PORT,\n",
    "                 'IpRanges': [{'CidrIp': '0.0.0.0/0'}]}\n",
    "            ]\n",
    "    )\n",
    "except ec2.exceptions.ClientError as e:\n",
    "    if e.response[\"Error\"][\"Code\"] == 'InvalidPermission.Duplicate':\n",
    "        print(\"Permissions already adjusted.\")\n",
    "    else:\n",
    "        print(e)"
   ],
   "metadata": {
    "collapsed": false,
    "ExecuteTime": {
     "end_time": "2024-05-23T03:58:55.612378Z",
     "start_time": "2024-05-23T03:58:54.992596Z"
    }
   },
   "id": "4944b6b27250f78a",
   "execution_count": 4
  },
  {
   "cell_type": "code",
   "outputs": [
    {
     "name": "stdout",
     "output_type": "stream",
     "text": [
      "Tables created successfully.\n",
      "Connection closed.\n"
     ]
    }
   ],
   "source": [
    "import mysql.connector\n",
    "\n",
    "# Database connection configuration\n",
    "config = {\n",
    "    'user': 'username',\n",
    "    'password': 'password',\n",
    "    'host': 'autobiography-db.cvb2z3vt9fut.us-east-1.rds.amazonaws.com',\n",
    "    'database': 'autobiography',\n",
    "    'raise_on_warnings': True\n",
    "}\n",
    "\n",
    "try:\n",
    "    # Connect to the database\n",
    "    conn = mysql.connector.connect(**config)\n",
    "    cursor = conn.cursor()\n",
    "\n",
    "    # SQL to create the 'books' and 'persons' tables without foreign keys\n",
    "    create_books_table = \"\"\"\n",
    "    CREATE TABLE books (\n",
    "        book_title VARCHAR(255) PRIMARY KEY,\n",
    "        Extroversion FLOAT,\n",
    "        Neuroticism FLOAT,\n",
    "        Agreeableness FLOAT,\n",
    "        Conscientiousness FLOAT,\n",
    "        Openness FLOAT,\n",
    "        person_name VARCHAR(255) NULL  \n",
    "    );\n",
    "    \"\"\"\n",
    "    create_persons_table = \"\"\"\n",
    "    CREATE TABLE persons (\n",
    "        person_name VARCHAR(255) PRIMARY KEY,\n",
    "        Extroversion FLOAT,\n",
    "        Neuroticism FLOAT,\n",
    "        Agreeableness FLOAT,\n",
    "        Conscientiousness FLOAT,\n",
    "        Openness FLOAT,\n",
    "        book_title VARCHAR(255) NULL \n",
    "    );\n",
    "    \"\"\"\n",
    "\n",
    "    # Execute SQL commands to create tables\n",
    "    cursor.execute(create_books_table)\n",
    "    cursor.execute(create_persons_table)\n",
    "\n",
    "    # Commit changes\n",
    "    conn.commit()\n",
    "    print(\"Tables created successfully.\")\n",
    "\n",
    "except mysql.connector.Error as err:\n",
    "    print(\"Error occurred:\", err)\n",
    "\n",
    "finally:\n",
    "    if conn.is_connected():\n",
    "        cursor.close()\n",
    "        conn.close()\n",
    "        print(\"Connection closed.\")"
   ],
   "metadata": {
    "collapsed": false,
    "ExecuteTime": {
     "end_time": "2024-05-23T03:58:56.221923Z",
     "start_time": "2024-05-23T03:58:55.615509Z"
    }
   },
   "id": "adffa7381a864280",
   "execution_count": 5
  },
  {
   "cell_type": "markdown",
   "source": [
    "# Initialize S3 to store the raw data"
   ],
   "metadata": {
    "collapsed": false
   },
   "id": "403764dfe93a297f"
  },
  {
   "cell_type": "code",
   "outputs": [
    {
     "name": "stdout",
     "output_type": "stream",
     "text": [
      "Bucket autobiography-raw-data created successfully.\n"
     ]
    }
   ],
   "source": [
    "# create s3 bucket\n",
    "bucket_name = 'autobiography-raw-data'\n",
    "region = 'us-east-1'\n",
    "s3 = boto3.client('s3', region_name=region if region else 'us-east-1')\n",
    "try:\n",
    "    if region is None or region == 'us-east-1':\n",
    "        s3.create_bucket(Bucket=bucket_name)\n",
    "    else:\n",
    "        s3.create_bucket(\n",
    "            Bucket=bucket_name,\n",
    "            CreateBucketConfiguration={'LocationConstraint': region}\n",
    "        )\n",
    "    print(f\"Bucket {bucket_name} created successfully.\")\n",
    "except s3.exceptions.BucketAlreadyExists as e:\n",
    "    print(f\"Bucket {bucket_name} already exists.\")\n",
    "except s3.exceptions.BucketAlreadyOwnedByYou as e:\n",
    "    print(f\"Bucket {bucket_name} already owned by you.\")\n",
    "except Exception as e:\n",
    "    print(f\"An error occurred: {e}\")"
   ],
   "metadata": {
    "collapsed": false,
    "ExecuteTime": {
     "end_time": "2024-05-23T03:58:56.641670Z",
     "start_time": "2024-05-23T03:58:56.224314Z"
    }
   },
   "id": "d9290f0aa823ccb7",
   "execution_count": 6
  },
  {
   "cell_type": "markdown",
   "source": [
    "# Create a step function "
   ],
   "metadata": {
    "collapsed": false
   },
   "id": "4a4c60b9e6b6efe0"
  },
  {
   "cell_type": "code",
   "outputs": [],
   "source": [
    "import boto3\n",
    "import json\n",
    "\n",
    "def make_def(lambda_arn):\n",
    "    definition = {\n",
    "      \"Comment\": \"Q2 State Machine\",\n",
    "      \"StartAt\": \"Map\",\n",
    "      \"States\": {\n",
    "        \"Map\": {\n",
    "          \"Type\": \"Map\",\n",
    "          \"End\": True,\n",
    "          \"MaxConcurrency\": 10,\n",
    "          \"Iterator\": {\n",
    "            \"StartAt\": \"Lambda Invoke\",\n",
    "            \"States\": {\n",
    "              \"Lambda Invoke\": {\n",
    "                \"Type\": \"Task\",\n",
    "                \"Resource\": \"arn:aws:states:::lambda:invoke\",\n",
    "                \"OutputPath\": \"$.Payload\",\n",
    "                \"Parameters\": {\n",
    "                  \"Payload.$\": \"$\",\n",
    "                  \"FunctionName\": lambda_arn\n",
    "                },\n",
    "                \"Retry\": [\n",
    "                  {\n",
    "                    \"ErrorEquals\": [\n",
    "                      \"Lambda.ServiceException\",\n",
    "                      \"Lambda.AWSLambdaException\",\n",
    "                      \"Lambda.SdkClientException\",\n",
    "                      \"Lambda.TooManyRequestsException\",\n",
    "                      \"States.TaskFailed\",\n",
    "                      \"Lambda.Unknown\"                      \n",
    "                    ],\n",
    "                    \"IntervalSeconds\": 2,\n",
    "                    \"MaxAttempts\": 6,\n",
    "                    \"BackoffRate\": 2\n",
    "                  }\n",
    "                ],\n",
    "                \"End\": True\n",
    "              }\n",
    "            }\n",
    "          }\n",
    "        }\n",
    "      }\n",
    "    }\n",
    "    return definition\n",
    "\n",
    "if __name__ == '__main__':\n",
    "    iam = boto3.client('iam')\n",
    "    sfn = boto3.client('stepfunctions')\n",
    "    aws_lambda = boto3.client('lambda')\n",
    "    role = iam.get_role(RoleName='LabRole')\n",
    "\n",
    "    lambda_function_name = 'backend_personality'\n",
    "\n",
    "    # Get Lambda Function ARN and Role ARN\n",
    "    # Assumes Lambda function already exists\n",
    "    lambda_arn = [f['FunctionArn']\n",
    "                  for f in aws_lambda.list_functions()['Functions']\n",
    "                  if f['FunctionName'] == lambda_function_name][0]\n",
    "    \n",
    "    # Throttle concurrent executions to 10\n",
    "    response = aws_lambda.put_function_concurrency(\n",
    "            FunctionName=lambda_function_name,\n",
    "            ReservedConcurrentExecutions=10\n",
    "        )\n",
    "\n",
    "    sfn_function_name = \"personalities-state-machine\"\n",
    "\n",
    "    # Use Lambda ARN to create State Machine Definition\n",
    "    sf_def = make_def(lambda_arn)\n",
    "\n",
    "    # Create Step Function State Machine if doesn't already exist\n",
    "    try:\n",
    "        response = sfn.create_state_machine(\n",
    "            name=sfn_function_name,\n",
    "            definition=json.dumps(sf_def),\n",
    "            roleArn=role['Role']['Arn'],\n",
    "            type='EXPRESS'\n",
    "        )\n",
    "    except sfn.exceptions.StateMachineAlreadyExists:\n",
    "        response = sfn.list_state_machines()\n",
    "        state_machine_arn = [sm['stateMachineArn'] \n",
    "                            for sm in response['stateMachines'] \n",
    "                            if sm['name'] == sfn_function_name][0]\n",
    "        response = sfn.update_state_machine(\n",
    "            stateMachineArn=state_machine_arn,\n",
    "            definition=json.dumps(sf_def),\n",
    "            roleArn=role['Role']['Arn']\n",
    "        )"
   ],
   "metadata": {
    "collapsed": false,
    "ExecuteTime": {
     "end_time": "2024-05-23T04:47:18.773630Z",
     "start_time": "2024-05-23T04:47:16.404945Z"
    }
   },
   "id": "185a6d391f7368e4",
   "execution_count": 7
  },
  {
   "cell_type": "markdown",
   "source": [
    "# Delete the bucket and RDS instance"
   ],
   "metadata": {
    "collapsed": false
   },
   "id": "70aab4b294ef0f64"
  },
  {
   "cell_type": "code",
   "outputs": [
    {
     "ename": "NameError",
     "evalue": "name 'conn' is not defined",
     "output_type": "error",
     "traceback": [
      "\u001B[0;31m---------------------------------------------------------------------------\u001B[0m",
      "\u001B[0;31mNameError\u001B[0m                                 Traceback (most recent call last)",
      "Cell \u001B[0;32mIn[5], line 2\u001B[0m\n\u001B[1;32m      1\u001B[0m \u001B[38;5;66;03m# close the connection\u001B[39;00m\n\u001B[0;32m----> 2\u001B[0m \u001B[43mconn\u001B[49m\u001B[38;5;241m.\u001B[39mclose()\n",
      "\u001B[0;31mNameError\u001B[0m: name 'conn' is not defined"
     ]
    }
   ],
   "source": [
    "# close the connection\n",
    "conn.close()"
   ],
   "metadata": {
    "collapsed": false,
    "ExecuteTime": {
     "end_time": "2024-05-21T19:25:27.546572Z",
     "start_time": "2024-05-21T19:25:27.533015Z"
    }
   },
   "id": "2ce1e4a268dd3ec0",
   "execution_count": 5
  },
  {
   "cell_type": "code",
   "outputs": [
    {
     "data": {
      "text/plain": "{'DBInstance': {'DBInstanceIdentifier': 'autobiography-db',\n  'DBInstanceClass': 'db.t3.micro',\n  'Engine': 'mysql',\n  'DBInstanceStatus': 'deleting',\n  'MasterUsername': 'username',\n  'DBName': 'autobiography',\n  'Endpoint': {'Address': 'autobiography-db.cvb2z3vt9fut.us-east-1.rds.amazonaws.com',\n   'Port': 3306,\n   'HostedZoneId': 'Z2R2ITUGPM61AM'},\n  'AllocatedStorage': 5,\n  'InstanceCreateTime': datetime.datetime(2024, 5, 21, 19, 41, 34, 728000, tzinfo=tzutc()),\n  'PreferredBackupWindow': '08:31-09:01',\n  'BackupRetentionPeriod': 1,\n  'DBSecurityGroups': [],\n  'VpcSecurityGroups': [{'VpcSecurityGroupId': 'sg-00b93c009a63e6ff0',\n    'Status': 'active'}],\n  'DBParameterGroups': [{'DBParameterGroupName': 'default.mysql8.0',\n    'ParameterApplyStatus': 'in-sync'}],\n  'AvailabilityZone': 'us-east-1c',\n  'DBSubnetGroup': {'DBSubnetGroupName': 'default',\n   'DBSubnetGroupDescription': 'default',\n   'VpcId': 'vpc-068ca4cb197f54d96',\n   'SubnetGroupStatus': 'Complete',\n   'Subnets': [{'SubnetIdentifier': 'subnet-06eab748cfefa669f',\n     'SubnetAvailabilityZone': {'Name': 'us-east-1c'},\n     'SubnetOutpost': {},\n     'SubnetStatus': 'Active'},\n    {'SubnetIdentifier': 'subnet-0feda8ccc884c308b',\n     'SubnetAvailabilityZone': {'Name': 'us-east-1b'},\n     'SubnetOutpost': {},\n     'SubnetStatus': 'Active'},\n    {'SubnetIdentifier': 'subnet-0210d96506bf74cf8',\n     'SubnetAvailabilityZone': {'Name': 'us-east-1f'},\n     'SubnetOutpost': {},\n     'SubnetStatus': 'Active'},\n    {'SubnetIdentifier': 'subnet-0eb51273290b999fd',\n     'SubnetAvailabilityZone': {'Name': 'us-east-1e'},\n     'SubnetOutpost': {},\n     'SubnetStatus': 'Active'},\n    {'SubnetIdentifier': 'subnet-0c8a0385853f74c05',\n     'SubnetAvailabilityZone': {'Name': 'us-east-1a'},\n     'SubnetOutpost': {},\n     'SubnetStatus': 'Active'},\n    {'SubnetIdentifier': 'subnet-0bd0a891ca7e91082',\n     'SubnetAvailabilityZone': {'Name': 'us-east-1d'},\n     'SubnetOutpost': {},\n     'SubnetStatus': 'Active'}]},\n  'PreferredMaintenanceWindow': 'sat:06:23-sat:06:53',\n  'PendingModifiedValues': {},\n  'LatestRestorableTime': datetime.datetime(2024, 5, 22, 3, 50, tzinfo=tzutc()),\n  'MultiAZ': False,\n  'EngineVersion': '8.0.35',\n  'AutoMinorVersionUpgrade': True,\n  'ReadReplicaDBInstanceIdentifiers': [],\n  'LicenseModel': 'general-public-license',\n  'OptionGroupMemberships': [{'OptionGroupName': 'default:mysql-8-0',\n    'Status': 'in-sync'}],\n  'PubliclyAccessible': True,\n  'StorageType': 'gp2',\n  'DbInstancePort': 0,\n  'StorageEncrypted': False,\n  'DbiResourceId': 'db-2MHSTQNYLMMAG4Q5T2645A2EYY',\n  'CACertificateIdentifier': '',\n  'DomainMemberships': [],\n  'CopyTagsToSnapshot': False,\n  'MonitoringInterval': 0,\n  'DBInstanceArn': 'arn:aws:rds:us-east-1:741475154378:db:autobiography-db',\n  'IAMDatabaseAuthenticationEnabled': False,\n  'PerformanceInsightsEnabled': False,\n  'DeletionProtection': False,\n  'AssociatedRoles': [],\n  'TagList': [],\n  'CustomerOwnedIpEnabled': False,\n  'BackupTarget': 'region',\n  'NetworkType': 'IPV4',\n  'StorageThroughput': 0,\n  'DedicatedLogVolume': False},\n 'ResponseMetadata': {'RequestId': 'cf0a091a-f8a9-4581-925d-cf074641922d',\n  'HTTPStatusCode': 200,\n  'HTTPHeaders': {'x-amzn-requestid': 'cf0a091a-f8a9-4581-925d-cf074641922d',\n   'strict-transport-security': 'max-age=31536000',\n   'content-type': 'text/xml',\n   'content-length': '4277',\n   'date': 'Wed, 22 May 2024 03:51:30 GMT'},\n  'RetryAttempts': 0}}"
     },
     "execution_count": 7,
     "metadata": {},
     "output_type": "execute_result"
    }
   ],
   "source": [
    "# close instance\n",
    "rds.delete_db_instance(DBInstanceIdentifier='autobiography-db', SkipFinalSnapshot=True)"
   ],
   "metadata": {
    "collapsed": false,
    "ExecuteTime": {
     "end_time": "2024-05-22T03:51:30.388024Z",
     "start_time": "2024-05-22T03:51:28.796213Z"
    }
   },
   "id": "2b191ebf0e26f500",
   "execution_count": 7
  },
  {
   "cell_type": "code",
   "outputs": [
    {
     "name": "stdout",
     "output_type": "stream",
     "text": [
      "All objects deleted from bucket autobiography-raw-data.\n",
      "Bucket autobiography-raw-data deleted successfully.\n"
     ]
    }
   ],
   "source": [
    "import boto3\n",
    "from botocore.exceptions import ClientError\n",
    "\n",
    "bucket_name = 'autobiography-raw-data'\n",
    "region = 'us-east-1'\n",
    "s3 = boto3.client('s3', region_name=region if region else 'us-east-1')\n",
    "\n",
    "def empty_bucket(bucket_name):\n",
    "    try:\n",
    "        # List all objects in the bucket\n",
    "        response = s3.list_objects_v2(Bucket=bucket_name)\n",
    "        while 'Contents' in response:\n",
    "            for obj in response['Contents']:\n",
    "                s3.delete_object(Bucket=bucket_name, Key=obj['Key'])\n",
    "            response = s3.list_objects_v2(Bucket=bucket_name)\n",
    "\n",
    "        # If the bucket has versioning enabled, delete all versions\n",
    "        response = s3.list_object_versions(Bucket=bucket_name)\n",
    "        if 'Versions' in response:\n",
    "            for version in response['Versions']:\n",
    "                s3.delete_object(Bucket=bucket_name, Key=version['Key'], VersionId=version['VersionId'])\n",
    "        if 'DeleteMarkers' in response:\n",
    "            for marker in response['DeleteMarkers']:\n",
    "                s3.delete_object(Bucket=bucket_name, Key=marker['Key'], VersionId=marker['VersionId'])\n",
    "        \n",
    "        print(f\"All objects deleted from bucket {bucket_name}.\")\n",
    "    except ClientError as e:\n",
    "        print(f\"Error emptying bucket {bucket_name}: {e}\")\n",
    "\n",
    "def delete_bucket(bucket_name):\n",
    "    try:\n",
    "        s3.delete_bucket(Bucket=bucket_name)\n",
    "        print(f\"Bucket {bucket_name} deleted successfully.\")\n",
    "    except ClientError as e:\n",
    "        print(f\"Error deleting bucket {bucket_name}: {e}\")\n",
    "\n",
    "try:\n",
    "    # Empty the bucket\n",
    "    empty_bucket(bucket_name)\n",
    "    # Delete the bucket\n",
    "    delete_bucket(bucket_name)\n",
    "except Exception as e:\n",
    "    print(f\"An error occurred: {e}\")\n"
   ],
   "metadata": {
    "collapsed": false,
    "ExecuteTime": {
     "end_time": "2024-05-22T03:51:35.183771Z",
     "start_time": "2024-05-22T03:51:33.893632Z"
    }
   },
   "id": "123d83a4656ff99c",
   "execution_count": 8
  },
  {
   "cell_type": "code",
   "outputs": [],
   "source": [],
   "metadata": {
    "collapsed": false
   },
   "id": "4dadef7ccd63f251",
   "execution_count": null
  }
 ],
 "metadata": {
  "kernelspec": {
   "display_name": "Python 3",
   "language": "python",
   "name": "python3"
  },
  "language_info": {
   "codemirror_mode": {
    "name": "ipython",
    "version": 2
   },
   "file_extension": ".py",
   "mimetype": "text/x-python",
   "name": "python",
   "nbconvert_exporter": "python",
   "pygments_lexer": "ipython2",
   "version": "2.7.6"
  }
 },
 "nbformat": 4,
 "nbformat_minor": 5
}
